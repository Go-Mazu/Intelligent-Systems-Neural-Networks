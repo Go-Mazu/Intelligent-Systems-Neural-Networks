{
  "nbformat": 4,
  "nbformat_minor": 0,
  "metadata": {
    "colab": {
      "name": "Intelligent Systems Neural Networks Govinda Mazumder",
      "provenance": [],
      "collapsed_sections": []
    },
    "kernelspec": {
      "name": "python3",
      "display_name": "Python 3"
    },
    "language_info": {
      "name": "python"
    }
  },
  "cells": [
    {
      "cell_type": "code",
      "metadata": {
        "id": "YT4lds-Bz2wT"
      },
      "source": [
        "import pandas as pd\n",
        "import numpy as np\n",
        "import math\n",
        "import random\n",
        "import matplotlib.pyplot as plt\n",
        "import sklearn\n",
        "import tensorflow\n",
        "from sklearn import preprocessing\n",
        "from sklearn.model_selection import train_test_split\n",
        "from sklearn.metrics import mean_squared_error\n",
        "from sklearn.metrics import mean_absolute_error\n",
        "from sklearn.metrics import r2_score\n",
        "from sklearn.preprocessing import StandardScaler\n",
        "from tensorflow import keras\n",
        "from tensorflow.keras import layers\n",
        "from keras.layers import Dense, Dropout, Activation\n",
        "from keras.optimizers import Adam\n",
        "from keras.models import Sequential"
      ],
      "execution_count": null,
      "outputs": []
    },
    {
      "cell_type": "code",
      "metadata": {
        "colab": {
          "base_uri": "https://localhost:8080/",
          "height": 269
        },
        "id": "tBuTS1N5QwdD",
        "outputId": "5d36fc48-2e2f-4b12-e869-76f1a310f2b6"
      },
      "source": [
        "x = np.linspace(-1, 1, 30000)\n",
        "y = 0.2*x**4 + 2*x**3 + 0.1*x**2 + 10\n",
        "plt.scatter(x, y)\n",
        "plt.show()"
      ],
      "execution_count": null,
      "outputs": [
        {
          "output_type": "display_data",
          "data": {
            "image/png": "[encoded data removed]",
            "text/plain": [
              "<Figure size 432x288 with 1 Axes>"
            ]
          },
          "metadata": {
            "tags": [],
            "needs_background": "light"
          }
        }
      ]
    },
    {
      "cell_type": "code",
      "metadata": {
        "colab": {
          "base_uri": "https://localhost:8080/"
        },
        "id": "SUyFtKIGWeol",
        "outputId": "82460f04-3ac1-43b2-e4bb-fdab9a76f5bc"
      },
      "source": [
        "df = pd.DataFrame({'x': x, 'y': y})\n",
        "print(df.head())"
      ],
      "execution_count": null,
      "outputs": [
        {
          "output_type": "stream",
          "text": [
            "          x         y\n",
            "0 -1.000000  8.300000\n",
            "1 -0.999933  8.300333\n",
            "2 -0.999867  8.300667\n",
            "3 -0.999800  8.301000\n",
            "4 -0.999733  8.301333\n"
          ],
          "name": "stdout"
        }
      ]
    },
    {
      "cell_type": "code",
      "metadata": {
        "id": "tchjMzICiI71"
      },
      "source": [
        "def shuffler (argument):\n",
        "  x = np.linspace(-1, 1, 30000)\n",
        "  y = 0.2*x**4 + 2*x**3 + 0.1*x**2 + 10\n",
        "  df = pd.DataFrame({'x': x, 'y': y})\n",
        "  if argument == 'shuffle':\n",
        "    dfs = sklearn.utils.shuffle(df)\n",
        "    return dfs\n",
        "  if argument != 'shuffle':\n",
        "    return df"
      ],
      "execution_count": null,
      "outputs": []
    },
    {
      "cell_type": "code",
      "metadata": {
        "id": "8F9JSg8YoDHJ"
      },
      "source": [
        "argument='shuffle'\n",
        "dfr= shuffler(argument)"
      ],
      "execution_count": null,
      "outputs": []
    },
    {
      "cell_type": "code",
      "metadata": {
        "colab": {
          "base_uri": "https://localhost:8080/"
        },
        "id": "cpGdO8YiRwzw",
        "outputId": "5b76fb0d-25ea-4432-95fa-0eacae2ce006"
      },
      "source": [
        "print(dfr['x'])"
      ],
      "execution_count": null,
      "outputs": [
        {
          "output_type": "stream",
          "text": [
            "12957   -0.136171\n",
            "13023   -0.131771\n",
            "7305    -0.512984\n",
            "15890    0.059369\n",
            "8192    -0.453848\n",
            "           ...   \n",
            "24817    0.654522\n",
            "28972    0.931531\n",
            "22117    0.474516\n",
            "13387   -0.107504\n",
            "40      -0.997333\n",
            "Name: x, Length: 30000, dtype: float64\n"
          ],
          "name": "stdout"
        }
      ]
    },
    {
      "cell_type": "code",
      "metadata": {
        "colab": {
          "base_uri": "https://localhost:8080/"
        },
        "id": "gm1foCzEcgME",
        "outputId": "0e1307c1-7394-4e51-f928-a9915389776b"
      },
      "source": [
        "print(dfr['y'])"
      ],
      "execution_count": null,
      "outputs": [
        {
          "output_type": "stream",
          "text": [
            "12957     9.996873\n",
            "13023     9.997221\n",
            "7305      9.770179\n",
            "15890    10.000773\n",
            "8192      9.842117\n",
            "           ...    \n",
            "24817    10.640338\n",
            "28972    11.854045\n",
            "22117    10.246345\n",
            "13387     9.998698\n",
            "40        8.313300\n",
            "Name: y, Length: 30000, dtype: float64\n"
          ],
          "name": "stdout"
        }
      ]
    },
    {
      "cell_type": "code",
      "metadata": {
        "id": "9RXD5kLpPE9E"
      },
      "source": [
        "def trainvaltestsplit(x, y, trainratio, valratio, testratio):\n",
        "    trainx, testx, trainy, testy = train_test_split(x, y, test_size=(1 - trainratio), random_state=42)\n",
        "    trainx, valx, trainy, valy = train_test_split(trainx, trainy, test_size= (testratio / (valratio + testratio)), random_state=42)\n",
        "    return (trainx, trainy, testx, testy, valx, valy)"
      ],
      "execution_count": null,
      "outputs": []
    },
    {
      "cell_type": "code",
      "metadata": {
        "id": "WZRj5c7Eu8x-"
      },
      "source": [
        "x_traintest, y_traintest, x_testtest, y_testtest, x_valtest, y_valtest = trainvaltestsplitfunctionattempt(dfrand['x'], dfrand['y'], 0.3, 0.2, 0.5)\n",
        "print(x_traintest.shape)\n",
        "print(y_traintest.shape)\n",
        "print(x_testtest.shape)\n",
        "print(y_testtest.shape)\n",
        "print(x_valtest.shape)\n",
        "print(y_valtest.shape)"
      ],
      "execution_count": null,
      "outputs": []
    },
    {
      "cell_type": "code",
      "metadata": {
        "id": "3wr-uqn6AWNj"
      },
      "source": [
        "def scaledata(d):\n",
        "  scaler01 = preprocessing.MinMaxScaler()\n",
        "  dscaled = pd.DataFrame(scaler01.fit_transform(d), columns = d.columns) #convert dataset to scaled/standardized data set seperated by columns\n",
        "  return dscaled"
      ],
      "execution_count": null,
      "outputs": []
    },
    {
      "cell_type": "code",
      "metadata": {
        "id": "wbE7dYJz_QBG"
      },
      "source": [
        "def errorscorecalc(y, ypred):\n",
        "  import math\n",
        "  mae = mean_absolute_error(y, ypred)\n",
        "  mse = mean_squared_error(y, ypred)\n",
        "  rmse = math.sqrt(mse)\n",
        "  r2score = r2_score(y, ypred)\n",
        "  return (mae, mse, rmse, r2score)"
      ],
      "execution_count": null,
      "outputs": []
    },
    {
      "cell_type": "code",
      "metadata": {
        "id": "8UzOTDYaJAo1"
      },
      "source": [
        "def model3Lrelu():\n",
        "    model = tensorflow.keras.Sequential()\n",
        "    model.add(Dense(units = 12, activation = 'relu',input_shape =(len(x_train1), 1)))\n",
        "    model.add(Dense(units= 8, activation= 'relu'))\n",
        "    model.add(Dense(units = 4, activation = 'relu'))\n",
        "    model.add(Dense(units = 1))\n",
        "    model.compile(loss = 'mse', optimizer = 'adam', metrics = ['mse'])\n",
        "    return model"
      ],
      "execution_count": null,
      "outputs": []
    },
    {
      "cell_type": "code",
      "metadata": {
        "id": "VcrNWOCS2Duh"
      },
      "source": [
        "def model3Ltanh():\n",
        "    model = tensorflow.keras.Sequential()\n",
        "    model.add(Dense(units = 12, activation = 'tanh',input_shape =(len(x_train1), 1)))\n",
        "    model.add(Dense(units= 8, activation= 'tanh'))\n",
        "    model.add(Dense(units = 4, activation = 'tanh'))\n",
        "    model.add(Dense(units = 1))\n",
        "    model.compile(loss = 'mse', optimizer = 'adam', metrics = ['mse'])\n",
        "    return model"
      ],
      "execution_count": null,
      "outputs": []
    },
    {
      "cell_type": "code",
      "metadata": {
        "id": "de1ylzEB2JbX"
      },
      "source": [
        "def model1Lrelu():\n",
        "    model = tensorflow.keras.Sequential()\n",
        "    model.add(Dense(units = 24, activation = 'relu',input_shape =(len(x_train1), 1)))\n",
        "    model.add(Dense(units = 1))\n",
        "    model.compile(loss = 'mse', optimizer = 'adam', metrics = ['mse'])\n",
        "    return model"
      ],
      "execution_count": null,
      "outputs": []
    },
    {
      "cell_type": "code",
      "metadata": {
        "id": "WF87m96l2Rsj"
      },
      "source": [
        "def model1Ltanh():\n",
        "    model = tensorflow.keras.Sequential()\n",
        "    model.add(Dense(units = 24, activation = 'tanh',input_shape =(len(x_train1), 1)))\n",
        "    model.add(Dense(units = 1))\n",
        "    model.compile(loss = 'mse', optimizer = 'adam', metrics = ['mse'])\n",
        "    return model"
      ],
      "execution_count": null,
      "outputs": []
    },
    {
      "cell_type": "code",
      "metadata": {
        "colab": {
          "base_uri": "https://localhost:8080/",
          "height": 1000
        },
        "id": "R6dNJQKi1TLe",
        "outputId": "465c09c7-ba9a-45c7-d19b-c7cfd265c26b"
      },
      "source": [
        "dfc1 = shuffler('shuffle')\n",
        "x_train1, y_train1, x_test1, y_test1, x_val1, y_val1 = trainvaltestsplit(dfc1['x'], dfc1['y'], 0.3, 0.2, 0.5)\n",
        "c1 = model3Lrelu()\n",
        "c1.fit(x_train1, y_train1, epochs = 20, batch_size = 12, validation_data = (x_val1, y_val1), shuffle = False)\n",
        "predictioncase1 = c1.predict(np.array(x_test1))\n",
        "plt.scatter(x_test1, predictioncase1)\n",
        "plt.scatter(x_test1, y_test1)\n",
        "errorscorecalc(y_test1, predictioncase1)"
      ],
      "execution_count": null,
      "outputs": [
        {
          "output_type": "stream",
          "text": [
            "Epoch 1/20\n",
            "215/215 [==============================] - 2s 5ms/step - loss: 67.6448 - mse: 67.6448 - val_loss: 10.3223 - val_mse: 10.3223\n",
            "Epoch 2/20\n",
            "215/215 [==============================] - 1s 4ms/step - loss: 1.8203 - mse: 1.8203 - val_loss: 0.6762 - val_mse: 0.6762\n",
            "Epoch 3/20\n",
            "215/215 [==============================] - 1s 4ms/step - loss: 0.3966 - mse: 0.3966 - val_loss: 0.2745 - val_mse: 0.2745\n",
            "Epoch 4/20\n",
            "215/215 [==============================] - 1s 3ms/step - loss: 0.1871 - mse: 0.1871 - val_loss: 0.1541 - val_mse: 0.1541\n",
            "Epoch 5/20\n",
            "215/215 [==============================] - 1s 3ms/step - loss: 0.1110 - mse: 0.1110 - val_loss: 0.0958 - val_mse: 0.0958\n",
            "Epoch 6/20\n",
            "215/215 [==============================] - 1s 3ms/step - loss: 0.0696 - mse: 0.0696 - val_loss: 0.0603 - val_mse: 0.0603\n",
            "Epoch 7/20\n",
            "215/215 [==============================] - 1s 3ms/step - loss: 0.0445 - mse: 0.0445 - val_loss: 0.0393 - val_mse: 0.0393\n",
            "Epoch 8/20\n",
            "215/215 [==============================] - 1s 3ms/step - loss: 0.0301 - mse: 0.0301 - val_loss: 0.0275 - val_mse: 0.0275\n",
            "Epoch 9/20\n",
            "215/215 [==============================] - 1s 3ms/step - loss: 0.0213 - mse: 0.0213 - val_loss: 0.0196 - val_mse: 0.0196\n",
            "Epoch 10/20\n",
            "215/215 [==============================] - 1s 4ms/step - loss: 0.0153 - mse: 0.0153 - val_loss: 0.0140 - val_mse: 0.0140\n",
            "Epoch 11/20\n",
            "215/215 [==============================] - 1s 3ms/step - loss: 0.0109 - mse: 0.0109 - val_loss: 0.0100 - val_mse: 0.0100\n",
            "Epoch 12/20\n",
            "215/215 [==============================] - 1s 4ms/step - loss: 0.0079 - mse: 0.0079 - val_loss: 0.0072 - val_mse: 0.0072\n",
            "Epoch 13/20\n",
            "215/215 [==============================] - 1s 3ms/step - loss: 0.0058 - mse: 0.0058 - val_loss: 0.0054 - val_mse: 0.0054\n",
            "Epoch 14/20\n",
            "215/215 [==============================] - 1s 3ms/step - loss: 0.0044 - mse: 0.0044 - val_loss: 0.0042 - val_mse: 0.0042\n",
            "Epoch 15/20\n",
            "215/215 [==============================] - 1s 4ms/step - loss: 0.0035 - mse: 0.0035 - val_loss: 0.0034 - val_mse: 0.0034\n",
            "Epoch 16/20\n",
            "215/215 [==============================] - 1s 5ms/step - loss: 0.0029 - mse: 0.0029 - val_loss: 0.0028 - val_mse: 0.0028\n",
            "Epoch 17/20\n",
            "215/215 [==============================] - 1s 4ms/step - loss: 0.0025 - mse: 0.0025 - val_loss: 0.0024 - val_mse: 0.0024\n",
            "Epoch 18/20\n",
            "215/215 [==============================] - 1s 3ms/step - loss: 0.0021 - mse: 0.0021 - val_loss: 0.0021 - val_mse: 0.0021\n",
            "Epoch 19/20\n",
            "215/215 [==============================] - 1s 4ms/step - loss: 0.0019 - mse: 0.0019 - val_loss: 0.0018 - val_mse: 0.0018\n",
            "Epoch 20/20\n",
            "215/215 [==============================] - 1s 3ms/step - loss: 0.0016 - mse: 0.0016 - val_loss: 0.0016 - val_mse: 0.0016\n"
          ],
          "name": "stdout"
        },
        {
          "output_type": "execute_result",
          "data": {
            "text/plain": [
              "(0.030913395221649032,\n",
              " 0.0016150897278935095,\n",
              " 0.04018817895716985,\n",
              " 0.9972180191738207)"
            ]
          },
          "metadata": {
            "tags": []
          },
          "execution_count": 133
        },
        {
          "output_type": "display_data",
          "data": {
            "image/png": "[encoded data removed]",
            "text/plain": [
              "<Figure size 432x288 with 1 Axes>"
            ]
          },
          "metadata": {
            "tags": [],
            "needs_background": "light"
          }
        }
      ]
    },
    {
      "cell_type": "code",
      "metadata": {
        "colab": {
          "base_uri": "https://localhost:8080/",
          "height": 282
        },
        "id": "tF1gGHSdbBRZ",
        "outputId": "67c46fb0-74c0-4818-fe1f-121f3939fa5a"
      },
      "source": [
        "plt.scatter(x_test1, predictioncase1)"
      ],
      "execution_count": null,
      "outputs": [
        {
          "output_type": "execute_result",
          "data": {
            "text/plain": [
              "<matplotlib.collections.PathCollection at 0x7f1118c5c510>"
            ]
          },
          "metadata": {
            "tags": []
          },
          "execution_count": 123
        },
        {
          "output_type": "display_data",
          "data": {
            "image/png": "[encoded data removed]",
            "text/plain": [
              "<Figure size 432x288 with 1 Axes>"
            ]
          },
          "metadata": {
            "tags": [],
            "needs_background": "light"
          }
        }
      ]
    },
    {
      "cell_type": "code",
      "metadata": {
        "colab": {
          "base_uri": "https://localhost:8080/",
          "height": 286
        },
        "id": "OIdC4mFIbFb4",
        "outputId": "b987f525-8d93-4e23-f4a2-c93f646fd0df"
      },
      "source": [
        "plt.scatter(x_test1, y_test1)"
      ],
      "execution_count": null,
      "outputs": [
        {
          "output_type": "execute_result",
          "data": {
            "text/plain": [
              "<matplotlib.collections.PathCollection at 0x7f1119b48b10>"
            ]
          },
          "metadata": {
            "tags": []
          },
          "execution_count": 124
        },
        {
          "output_type": "display_data",
          "data": {
            "image/png": "[encoded data removed]",
            "text/plain": [
              "<Figure size 432x288 with 1 Axes>"
            ]
          },
          "metadata": {
            "tags": [],
            "needs_background": "light"
          }
        }
      ]
    },
    {
      "cell_type": "code",
      "metadata": {
        "colab": {
          "base_uri": "https://localhost:8080/",
          "height": 1000
        },
        "id": "thlHlrPVUXUl",
        "outputId": "63de03f1-8650-4202-f528-423782885802"
      },
      "source": [
        "dfc2 = shuffler('shuffle')\n",
        "x_train2, y_train2, x_test2, y_test2, x_val2, y_val2 = trainvaltestsplit(dfc1['x'], dfc1['y'], 0.3, 0.2, 0.5)\n",
        "c2 = model1Lrelu()\n",
        "c2.fit(x_train2, y_train2, epochs = 20, batch_size = 12, validation_data = (x_val2, y_val2), shuffle=False)\n",
        "predictioncase2 = c2.predict(np.array(x_test2))\n",
        "plt.scatter(x_test2, predictioncase2)\n",
        "plt.scatter(x_test2, y_test2)\n",
        "errorscorecalc(y_test2, predictioncase2)"
      ],
      "execution_count": null,
      "outputs": [
        {
          "output_type": "stream",
          "text": [
            "Epoch 1/20\n",
            "215/215 [==============================] - 2s 5ms/step - loss: 83.5597 - mse: 83.5597 - val_loss: 60.8081 - val_mse: 60.8081\n",
            "Epoch 2/20\n",
            "215/215 [==============================] - 1s 4ms/step - loss: 36.5264 - mse: 36.5264 - val_loss: 14.8954 - val_mse: 14.8954\n",
            "Epoch 3/20\n",
            "215/215 [==============================] - 1s 3ms/step - loss: 5.4568 - mse: 5.4568 - val_loss: 0.7447 - val_mse: 0.7447\n",
            "Epoch 4/20\n",
            "215/215 [==============================] - 1s 3ms/step - loss: 0.2214 - mse: 0.2214 - val_loss: 0.0801 - val_mse: 0.0801\n",
            "Epoch 5/20\n",
            "215/215 [==============================] - 1s 4ms/step - loss: 0.0679 - mse: 0.0679 - val_loss: 0.0699 - val_mse: 0.0699\n",
            "Epoch 6/20\n",
            "215/215 [==============================] - 1s 4ms/step - loss: 0.0613 - mse: 0.0613 - val_loss: 0.0633 - val_mse: 0.0633\n",
            "Epoch 7/20\n",
            "215/215 [==============================] - 1s 4ms/step - loss: 0.0557 - mse: 0.0557 - val_loss: 0.0573 - val_mse: 0.0573\n",
            "Epoch 8/20\n",
            "215/215 [==============================] - 1s 4ms/step - loss: 0.0507 - mse: 0.0507 - val_loss: 0.0523 - val_mse: 0.0523\n",
            "Epoch 9/20\n",
            "215/215 [==============================] - 1s 4ms/step - loss: 0.0466 - mse: 0.0466 - val_loss: 0.0484 - val_mse: 0.0484\n",
            "Epoch 10/20\n",
            "215/215 [==============================] - 1s 4ms/step - loss: 0.0435 - mse: 0.0435 - val_loss: 0.0455 - val_mse: 0.0455\n",
            "Epoch 11/20\n",
            "215/215 [==============================] - 1s 4ms/step - loss: 0.0412 - mse: 0.0412 - val_loss: 0.0435 - val_mse: 0.0435\n",
            "Epoch 12/20\n",
            "215/215 [==============================] - 1s 4ms/step - loss: 0.0395 - mse: 0.0395 - val_loss: 0.0420 - val_mse: 0.0420\n",
            "Epoch 13/20\n",
            "215/215 [==============================] - 1s 4ms/step - loss: 0.0383 - mse: 0.0383 - val_loss: 0.0409 - val_mse: 0.0409\n",
            "Epoch 14/20\n",
            "215/215 [==============================] - 1s 4ms/step - loss: 0.0372 - mse: 0.0372 - val_loss: 0.0398 - val_mse: 0.0398\n",
            "Epoch 15/20\n",
            "215/215 [==============================] - 1s 5ms/step - loss: 0.0361 - mse: 0.0361 - val_loss: 0.0387 - val_mse: 0.0387\n",
            "Epoch 16/20\n",
            "215/215 [==============================] - 1s 5ms/step - loss: 0.0350 - mse: 0.0350 - val_loss: 0.0374 - val_mse: 0.0374\n",
            "Epoch 17/20\n",
            "215/215 [==============================] - 1s 5ms/step - loss: 0.0336 - mse: 0.0336 - val_loss: 0.0358 - val_mse: 0.0358\n",
            "Epoch 18/20\n",
            "215/215 [==============================] - 1s 4ms/step - loss: 0.0320 - mse: 0.0320 - val_loss: 0.0339 - val_mse: 0.0339\n",
            "Epoch 19/20\n",
            "215/215 [==============================] - 1s 3ms/step - loss: 0.0301 - mse: 0.0301 - val_loss: 0.0316 - val_mse: 0.0316\n",
            "Epoch 20/20\n",
            "215/215 [==============================] - 1s 4ms/step - loss: 0.0278 - mse: 0.0278 - val_loss: 0.0289 - val_mse: 0.0289\n"
          ],
          "name": "stdout"
        },
        {
          "output_type": "execute_result",
          "data": {
            "text/plain": [
              "(0.1250704085164354,\n",
              " 0.028630990830859234,\n",
              " 0.16920694675709752,\n",
              " 0.9506833173721856)"
            ]
          },
          "metadata": {
            "tags": []
          },
          "execution_count": 166
        },
        {
          "output_type": "display_data",
          "data": {
            "image/png": "[encoded data removed]",
            "text/plain": [
              "<Figure size 432x288 with 1 Axes>"
            ]
          },
          "metadata": {
            "tags": [],
            "needs_background": "light"
          }
        }
      ]
    },
    {
      "cell_type": "code",
      "metadata": {
        "colab": {
          "base_uri": "https://localhost:8080/",
          "height": 1000
        },
        "id": "ng5_k8LWNRbJ",
        "outputId": "b24817c1-26ab-4909-acf1-29450567766c"
      },
      "source": [
        "dfc3 = shuffler('shuffle')\n",
        "x_train3, y_train3, x_test3, y_test3, x_val3, y_val3 = trainvaltestsplit(dfc3['x'], dfc3['y'], 0.3, 0.2, 0.5)\n",
        "c3 = model3Ltanh()\n",
        "c3.fit(x_train3, y_train3, epochs = 20, batch_size = 12, validation_data = (x_val3, y_val3), shuffle=False)\n",
        "predictioncase3 = c3.predict(np.array(x_test3))\n",
        "plt.scatter(x_test3, predictioncase3)\n",
        "plt.scatter(x_test3, y_test3)\n",
        "errorscorecalc(y_test3, predictioncase3)"
      ],
      "execution_count": null,
      "outputs": [
        {
          "output_type": "stream",
          "text": [
            "Epoch 1/20\n",
            "215/215 [==============================] - 2s 5ms/step - loss: 68.6419 - mse: 68.6419 - val_loss: 33.9876 - val_mse: 33.9876\n",
            "Epoch 2/20\n",
            "215/215 [==============================] - 1s 4ms/step - loss: 25.4581 - mse: 25.4581 - val_loss: 19.3841 - val_mse: 19.3841\n",
            "Epoch 3/20\n",
            "215/215 [==============================] - 1s 4ms/step - loss: 15.4845 - mse: 15.4845 - val_loss: 12.0582 - val_mse: 12.0582\n",
            "Epoch 4/20\n",
            "215/215 [==============================] - 1s 5ms/step - loss: 9.5732 - mse: 9.5732 - val_loss: 7.3630 - val_mse: 7.3630\n",
            "Epoch 5/20\n",
            "215/215 [==============================] - 1s 4ms/step - loss: 5.7776 - mse: 5.7776 - val_loss: 4.3782 - val_mse: 4.3782\n",
            "Epoch 6/20\n",
            "215/215 [==============================] - 1s 4ms/step - loss: 3.4114 - mse: 3.4114 - val_loss: 2.5689 - val_mse: 2.5689\n",
            "Epoch 7/20\n",
            "215/215 [==============================] - 1s 5ms/step - loss: 2.0175 - mse: 2.0175 - val_loss: 1.5436 - val_mse: 1.5436\n",
            "Epoch 8/20\n",
            "215/215 [==============================] - 1s 5ms/step - loss: 1.2551 - mse: 1.2551 - val_loss: 1.0089 - val_mse: 1.0089\n",
            "Epoch 9/20\n",
            "215/215 [==============================] - 1s 5ms/step - loss: 0.8733 - mse: 0.8733 - val_loss: 0.7560 - val_mse: 0.7560\n",
            "Epoch 10/20\n",
            "215/215 [==============================] - 1s 5ms/step - loss: 0.7006 - mse: 0.7006 - val_loss: 0.6486 - val_mse: 0.6486\n",
            "Epoch 11/20\n",
            "215/215 [==============================] - 1s 4ms/step - loss: 0.6301 - mse: 0.6301 - val_loss: 0.6071 - val_mse: 0.6071\n",
            "Epoch 12/20\n",
            "215/215 [==============================] - 1s 5ms/step - loss: 0.6027 - mse: 0.6027 - val_loss: 0.5898 - val_mse: 0.5898\n",
            "Epoch 13/20\n",
            "215/215 [==============================] - 1s 4ms/step - loss: 0.5859 - mse: 0.5859 - val_loss: 0.5660 - val_mse: 0.5660\n",
            "Epoch 14/20\n",
            "215/215 [==============================] - 1s 5ms/step - loss: 0.4437 - mse: 0.4437 - val_loss: 0.3271 - val_mse: 0.3271\n",
            "Epoch 15/20\n",
            "215/215 [==============================] - 1s 4ms/step - loss: 0.3134 - mse: 0.3134 - val_loss: 0.2878 - val_mse: 0.2878\n",
            "Epoch 16/20\n",
            "215/215 [==============================] - 1s 5ms/step - loss: 0.2805 - mse: 0.2805 - val_loss: 0.2590 - val_mse: 0.2590\n",
            "Epoch 17/20\n",
            "215/215 [==============================] - 1s 5ms/step - loss: 0.2546 - mse: 0.2546 - val_loss: 0.2348 - val_mse: 0.2348\n",
            "Epoch 18/20\n",
            "215/215 [==============================] - 1s 5ms/step - loss: 0.2318 - mse: 0.2318 - val_loss: 0.2123 - val_mse: 0.2123\n",
            "Epoch 19/20\n",
            "215/215 [==============================] - 1s 5ms/step - loss: 0.2087 - mse: 0.2087 - val_loss: 0.1890 - val_mse: 0.1890\n",
            "Epoch 20/20\n",
            "215/215 [==============================] - 1s 4ms/step - loss: 0.1854 - mse: 0.1854 - val_loss: 0.1666 - val_mse: 0.1666\n"
          ],
          "name": "stdout"
        },
        {
          "output_type": "execute_result",
          "data": {
            "text/plain": [
              "(0.26298719545602106,\n",
              " 0.1596873622581641,\n",
              " 0.3996090117329239,\n",
              " 0.7192909573753602)"
            ]
          },
          "metadata": {
            "tags": []
          },
          "execution_count": 165
        },
        {
          "output_type": "display_data",
          "data": {
            "image/png": "[encoded data removed]",
            "text/plain": [
              "<Figure size 432x288 with 1 Axes>"
            ]
          },
          "metadata": {
            "tags": [],
            "needs_background": "light"
          }
        }
      ]
    },
    {
      "cell_type": "code",
      "metadata": {
        "colab": {
          "base_uri": "https://localhost:8080/",
          "height": 1000
        },
        "id": "jzTELK-EQ53Q",
        "outputId": "beeb8907-ee27-4113-c47d-0495070c6c21"
      },
      "source": [
        "dfc4us = shuffler('shuffle')\n",
        "dfc4 = scaledata(dfc4us)\n",
        "x_train4, y_train4, x_test4, y_test4, x_val4, y_val4 = trainvaltestsplit(dfc4['x'], dfc4['y'], 0.3, 0.2, 0.5)\n",
        "c4 = model3Lrelu()                                                                        \n",
        "c4.fit(x_train4, y_train4, epochs = 20, batch_size = 12, validation_data = (x_val4, y_val4), shuffle=False)\n",
        "predictioncase4 = c4.predict(np.array(x_test4))\n",
        "plt.scatter(x_test4, predictioncase4)\n",
        "errorscorecalc(y_test4, predictioncase4)"
      ],
      "execution_count": null,
      "outputs": [
        {
          "output_type": "stream",
          "text": [
            "Epoch 1/20\n",
            "215/215 [==============================] - 2s 5ms/step - loss: 0.0713 - mse: 0.0713 - val_loss: 0.0075 - val_mse: 0.0075\n",
            "Epoch 2/20\n",
            "215/215 [==============================] - 1s 5ms/step - loss: 0.0056 - mse: 0.0056 - val_loss: 0.0054 - val_mse: 0.0054\n",
            "Epoch 3/20\n",
            "215/215 [==============================] - 1s 4ms/step - loss: 0.0048 - mse: 0.0048 - val_loss: 0.0049 - val_mse: 0.0049\n",
            "Epoch 4/20\n",
            "215/215 [==============================] - 1s 5ms/step - loss: 0.0045 - mse: 0.0045 - val_loss: 0.0046 - val_mse: 0.0046\n",
            "Epoch 5/20\n",
            "215/215 [==============================] - 1s 3ms/step - loss: 0.0041 - mse: 0.0041 - val_loss: 0.0042 - val_mse: 0.0042\n",
            "Epoch 6/20\n",
            "215/215 [==============================] - 1s 3ms/step - loss: 0.0037 - mse: 0.0037 - val_loss: 0.0037 - val_mse: 0.0037\n",
            "Epoch 7/20\n",
            "215/215 [==============================] - 1s 3ms/step - loss: 0.0032 - mse: 0.0032 - val_loss: 0.0032 - val_mse: 0.0032\n",
            "Epoch 8/20\n",
            "215/215 [==============================] - 1s 3ms/step - loss: 0.0026 - mse: 0.0026 - val_loss: 0.0025 - val_mse: 0.0025\n",
            "Epoch 9/20\n",
            "215/215 [==============================] - 1s 4ms/step - loss: 0.0020 - mse: 0.0020 - val_loss: 0.0019 - val_mse: 0.0019\n",
            "Epoch 10/20\n",
            "215/215 [==============================] - 1s 4ms/step - loss: 0.0014 - mse: 0.0014 - val_loss: 0.0012 - val_mse: 0.0012\n",
            "Epoch 11/20\n",
            "215/215 [==============================] - 1s 3ms/step - loss: 9.4476e-04 - mse: 9.4476e-04 - val_loss: 8.0514e-04 - val_mse: 8.0514e-04\n",
            "Epoch 12/20\n",
            "215/215 [==============================] - 1s 3ms/step - loss: 6.1821e-04 - mse: 6.1821e-04 - val_loss: 5.3942e-04 - val_mse: 5.3942e-04\n",
            "Epoch 13/20\n",
            "215/215 [==============================] - 1s 4ms/step - loss: 4.2923e-04 - mse: 4.2923e-04 - val_loss: 3.7729e-04 - val_mse: 3.7729e-04\n",
            "Epoch 14/20\n",
            "215/215 [==============================] - 1s 4ms/step - loss: 3.2924e-04 - mse: 3.2924e-04 - val_loss: 2.7884e-04 - val_mse: 2.7884e-04\n",
            "Epoch 15/20\n",
            "215/215 [==============================] - 1s 4ms/step - loss: 2.8002e-04 - mse: 2.8002e-04 - val_loss: 2.8714e-04 - val_mse: 2.8714e-04\n",
            "Epoch 16/20\n",
            "215/215 [==============================] - 1s 3ms/step - loss: 2.5028e-04 - mse: 2.5028e-04 - val_loss: 3.1250e-04 - val_mse: 3.1250e-04\n",
            "Epoch 17/20\n",
            "215/215 [==============================] - 1s 4ms/step - loss: 2.3248e-04 - mse: 2.3248e-04 - val_loss: 3.5272e-04 - val_mse: 3.5272e-04\n",
            "Epoch 18/20\n",
            "215/215 [==============================] - 1s 3ms/step - loss: 2.2423e-04 - mse: 2.2423e-04 - val_loss: 3.6655e-04 - val_mse: 3.6655e-04\n",
            "Epoch 19/20\n",
            "215/215 [==============================] - 1s 3ms/step - loss: 2.1990e-04 - mse: 2.1990e-04 - val_loss: 3.6037e-04 - val_mse: 3.6037e-04\n",
            "Epoch 20/20\n",
            "215/215 [==============================] - 1s 3ms/step - loss: 2.1846e-04 - mse: 2.1846e-04 - val_loss: 3.4874e-04 - val_mse: 3.4874e-04\n"
          ],
          "name": "stdout"
        },
        {
          "output_type": "execute_result",
          "data": {
            "text/plain": [
              "(0.014686660727957547,\n",
              " 0.0003427362729740456,\n",
              " 0.01851313784786484,\n",
              " 0.9905185314736837)"
            ]
          },
          "metadata": {
            "tags": []
          },
          "execution_count": 140
        },
        {
          "output_type": "display_data",
          "data": {
            "image/png": "[encoded data removed]",
            "text/plain": [
              "<Figure size 432x288 with 1 Axes>"
            ]
          },
          "metadata": {
            "tags": [],
            "needs_background": "light"
          }
        }
      ]
    },
    {
      "cell_type": "code",
      "metadata": {
        "colab": {
          "base_uri": "https://localhost:8080/",
          "height": 1000
        },
        "id": "HZNjTd33SMgc",
        "outputId": "537dc8f1-d912-479a-b04f-fa51963a4b15"
      },
      "source": [
        "dfc5us = shuffler('shuffle')\n",
        "dfc5 = scaledata(dfc5us)\n",
        "x_train5, y_train5, x_test5, y_test5, x_val5, y_val5 = trainvaltestsplit(dfc5['x'], dfc5['y'], 0.3, 0.2, 0.5)\n",
        "c5 = model3Ltanh()                                                                        \n",
        "c5.fit(x_train5, y_train5, epochs = 20, batch_size = 12, validation_data = (x_val5, y_val5), shuffle=False)\n",
        "predictioncase5 = c5.predict(np.array(x_test5))\n",
        "plt.scatter(x_test5, predictioncase5)\n",
        "errorscorecalc(y_test5, predictioncase5)"
      ],
      "execution_count": null,
      "outputs": [
        {
          "output_type": "stream",
          "text": [
            "Epoch 1/20\n",
            "215/215 [==============================] - 2s 5ms/step - loss: 0.0237 - mse: 0.0237 - val_loss: 0.0075 - val_mse: 0.0075\n",
            "Epoch 2/20\n",
            "215/215 [==============================] - 1s 5ms/step - loss: 0.0072 - mse: 0.0072 - val_loss: 0.0074 - val_mse: 0.0074\n",
            "Epoch 3/20\n",
            "215/215 [==============================] - 1s 4ms/step - loss: 0.0071 - mse: 0.0071 - val_loss: 0.0076 - val_mse: 0.0076\n",
            "Epoch 4/20\n",
            "215/215 [==============================] - 1s 4ms/step - loss: 0.0070 - mse: 0.0070 - val_loss: 0.0076 - val_mse: 0.0076\n",
            "Epoch 5/20\n",
            "215/215 [==============================] - 1s 4ms/step - loss: 0.0069 - mse: 0.0069 - val_loss: 0.0076 - val_mse: 0.0076\n",
            "Epoch 6/20\n",
            "215/215 [==============================] - 1s 4ms/step - loss: 0.0068 - mse: 0.0068 - val_loss: 0.0075 - val_mse: 0.0075\n",
            "Epoch 7/20\n",
            "215/215 [==============================] - 1s 4ms/step - loss: 0.0068 - mse: 0.0068 - val_loss: 0.0074 - val_mse: 0.0074\n",
            "Epoch 8/20\n",
            "215/215 [==============================] - 1s 4ms/step - loss: 0.0067 - mse: 0.0067 - val_loss: 0.0073 - val_mse: 0.0073\n",
            "Epoch 9/20\n",
            "215/215 [==============================] - 1s 4ms/step - loss: 0.0067 - mse: 0.0067 - val_loss: 0.0072 - val_mse: 0.0072\n",
            "Epoch 10/20\n",
            "215/215 [==============================] - 1s 4ms/step - loss: 0.0066 - mse: 0.0066 - val_loss: 0.0071 - val_mse: 0.0071\n",
            "Epoch 11/20\n",
            "215/215 [==============================] - 1s 5ms/step - loss: 0.0066 - mse: 0.0066 - val_loss: 0.0070 - val_mse: 0.0070\n",
            "Epoch 12/20\n",
            "215/215 [==============================] - 1s 5ms/step - loss: 0.0065 - mse: 0.0065 - val_loss: 0.0069 - val_mse: 0.0069\n",
            "Epoch 13/20\n",
            "215/215 [==============================] - 1s 5ms/step - loss: 0.0065 - mse: 0.0065 - val_loss: 0.0068 - val_mse: 0.0068\n",
            "Epoch 14/20\n",
            "215/215 [==============================] - 1s 4ms/step - loss: 0.0064 - mse: 0.0064 - val_loss: 0.0067 - val_mse: 0.0067\n",
            "Epoch 15/20\n",
            "215/215 [==============================] - 1s 5ms/step - loss: 0.0063 - mse: 0.0063 - val_loss: 0.0067 - val_mse: 0.0067\n",
            "Epoch 16/20\n",
            "215/215 [==============================] - 1s 5ms/step - loss: 0.0063 - mse: 0.0063 - val_loss: 0.0066 - val_mse: 0.0066\n",
            "Epoch 17/20\n",
            "215/215 [==============================] - 1s 4ms/step - loss: 0.0062 - mse: 0.0062 - val_loss: 0.0066 - val_mse: 0.0066\n",
            "Epoch 18/20\n",
            "215/215 [==============================] - 1s 4ms/step - loss: 0.0062 - mse: 0.0062 - val_loss: 0.0065 - val_mse: 0.0065\n",
            "Epoch 19/20\n",
            "215/215 [==============================] - 1s 4ms/step - loss: 0.0061 - mse: 0.0061 - val_loss: 0.0065 - val_mse: 0.0065\n",
            "Epoch 20/20\n",
            "215/215 [==============================] - 1s 4ms/step - loss: 0.0061 - mse: 0.0061 - val_loss: 0.0065 - val_mse: 0.0065\n"
          ],
          "name": "stdout"
        },
        {
          "output_type": "execute_result",
          "data": {
            "text/plain": [
              "(0.06611805788540911,\n",
              " 0.006553322138310377,\n",
              " 0.08095259191842086,\n",
              " 0.819165652259828)"
            ]
          },
          "metadata": {
            "tags": []
          },
          "execution_count": 169
        },
        {
          "output_type": "display_data",
          "data": {
            "image/png": "[encoded data removed]",
            "text/plain": [
              "<Figure size 432x288 with 1 Axes>"
            ]
          },
          "metadata": {
            "tags": [],
            "needs_background": "light"
          }
        }
      ]
    },
    {
      "cell_type": "code",
      "metadata": {
        "colab": {
          "base_uri": "https://localhost:8080/",
          "height": 1000
        },
        "id": "Z5terrjCTmX5",
        "outputId": "16697244-d40b-43fe-eff3-162a08e66893"
      },
      "source": [
        "dfc6 = shuffler('!shuffle')\n",
        "x_train6, y_train6, x_test6, y_test6, x_val6, y_val6 = trainvaltestsplit(dfc6['x'], dfc6['y'], 0.3, 0.2, 0.5)\n",
        "c6 = model3Lrelu()\n",
        "c6.fit(x_train6, y_train6, epochs = 20, batch_size = 12, validation_data = (x_val6, y_val6), shuffle=False)\n",
        "predictioncase6 = c6.predict(np.array(x_test6))\n",
        "plt.scatter(x_test6, predictioncase6)\n",
        "errorscorecalc(y_test6, predictioncase6)"
      ],
      "execution_count": null,
      "outputs": [
        {
          "output_type": "stream",
          "text": [
            "Epoch 1/20\n",
            "215/215 [==============================] - 2s 5ms/step - loss: 65.9924 - mse: 65.9924 - val_loss: 6.3863 - val_mse: 6.3863\n",
            "Epoch 2/20\n",
            "215/215 [==============================] - 1s 4ms/step - loss: 0.6041 - mse: 0.6041 - val_loss: 0.1706 - val_mse: 0.1706\n",
            "Epoch 3/20\n",
            "215/215 [==============================] - 1s 4ms/step - loss: 0.1433 - mse: 0.1433 - val_loss: 0.1244 - val_mse: 0.1244\n",
            "Epoch 4/20\n",
            "215/215 [==============================] - 1s 4ms/step - loss: 0.1056 - mse: 0.1056 - val_loss: 0.0926 - val_mse: 0.0926\n",
            "Epoch 5/20\n",
            "215/215 [==============================] - 1s 5ms/step - loss: 0.0783 - mse: 0.0783 - val_loss: 0.0681 - val_mse: 0.0681\n",
            "Epoch 6/20\n",
            "215/215 [==============================] - 1s 4ms/step - loss: 0.0566 - mse: 0.0566 - val_loss: 0.0481 - val_mse: 0.0481\n",
            "Epoch 7/20\n",
            "215/215 [==============================] - 1s 4ms/step - loss: 0.0389 - mse: 0.0389 - val_loss: 0.0320 - val_mse: 0.0320\n",
            "Epoch 8/20\n",
            "215/215 [==============================] - 1s 4ms/step - loss: 0.0254 - mse: 0.0254 - val_loss: 0.0206 - val_mse: 0.0206\n",
            "Epoch 9/20\n",
            "215/215 [==============================] - 1s 4ms/step - loss: 0.0165 - mse: 0.0165 - val_loss: 0.0134 - val_mse: 0.0134\n",
            "Epoch 10/20\n",
            "215/215 [==============================] - 1s 4ms/step - loss: 0.0109 - mse: 0.0109 - val_loss: 0.0089 - val_mse: 0.0089\n",
            "Epoch 11/20\n",
            "215/215 [==============================] - 1s 4ms/step - loss: 0.0074 - mse: 0.0074 - val_loss: 0.0061 - val_mse: 0.0061\n",
            "Epoch 12/20\n",
            "215/215 [==============================] - 1s 3ms/step - loss: 0.0051 - mse: 0.0051 - val_loss: 0.0043 - val_mse: 0.0043\n",
            "Epoch 13/20\n",
            "215/215 [==============================] - 1s 4ms/step - loss: 0.0037 - mse: 0.0037 - val_loss: 0.0033 - val_mse: 0.0033\n",
            "Epoch 14/20\n",
            "215/215 [==============================] - 1s 4ms/step - loss: 0.0028 - mse: 0.0028 - val_loss: 0.0026 - val_mse: 0.0026\n",
            "Epoch 15/20\n",
            "215/215 [==============================] - 1s 4ms/step - loss: 0.0022 - mse: 0.0022 - val_loss: 0.0021 - val_mse: 0.0021\n",
            "Epoch 16/20\n",
            "215/215 [==============================] - 1s 3ms/step - loss: 0.0019 - mse: 0.0019 - val_loss: 0.0018 - val_mse: 0.0018\n",
            "Epoch 17/20\n",
            "215/215 [==============================] - 1s 4ms/step - loss: 0.0016 - mse: 0.0016 - val_loss: 0.0016 - val_mse: 0.0016\n",
            "Epoch 18/20\n",
            "215/215 [==============================] - 1s 4ms/step - loss: 0.0014 - mse: 0.0014 - val_loss: 0.0015 - val_mse: 0.0015\n",
            "Epoch 19/20\n",
            "215/215 [==============================] - 1s 4ms/step - loss: 0.0013 - mse: 0.0013 - val_loss: 0.0014 - val_mse: 0.0014\n",
            "Epoch 20/20\n",
            "215/215 [==============================] - 1s 4ms/step - loss: 0.0012 - mse: 0.0012 - val_loss: 0.0013 - val_mse: 0.0013\n"
          ],
          "name": "stdout"
        },
        {
          "output_type": "execute_result",
          "data": {
            "text/plain": [
              "(0.019953690129301288,\n",
              " 0.0012226603569380828,\n",
              " 0.03496656055344996,\n",
              " 0.997869608470412)"
            ]
          },
          "metadata": {
            "tags": []
          },
          "execution_count": 149
        },
        {
          "output_type": "display_data",
          "data": {
            "image/png": "[encoded data removed]",
            "text/plain": [
              "<Figure size 432x288 with 1 Axes>"
            ]
          },
          "metadata": {
            "tags": [],
            "needs_background": "light"
          }
        }
      ]
    },
    {
      "cell_type": "code",
      "metadata": {
        "colab": {
          "base_uri": "https://localhost:8080/",
          "height": 1000
        },
        "id": "EzK8_OqF2iZ0",
        "outputId": "33afb13d-b770-41e0-b7c2-e47060b4473b"
      },
      "source": [
        "dfc7 = shuffler('!shuffle')\n",
        "x_train7, y_train7, x_test7, y_test7, x_val7, y_val7 = trainvaltestsplit(dfc7['x'], dfc7['y'], 0.3, 0.2, 0.5)\n",
        "c7 = model1Lrelu()\n",
        "c7.fit(x_train7, y_train7, epochs = 20, batch_size = 12, validation_data = (x_val7, y_val7), shuffle=False)\n",
        "predictioncase7 = c7.predict(np.array(x_test7))\n",
        "plt.scatter(x_test7, predictioncase7)\n",
        "errorscorecalc(y_test7, predictioncase7)"
      ],
      "execution_count": null,
      "outputs": [
        {
          "output_type": "stream",
          "text": [
            "Epoch 1/20\n",
            "215/215 [==============================] - 1s 4ms/step - loss: 90.3771 - mse: 90.3771 - val_loss: 70.1730 - val_mse: 70.1730\n",
            "Epoch 2/20\n",
            "215/215 [==============================] - 1s 4ms/step - loss: 43.8512 - mse: 43.8512 - val_loss: 19.7570 - val_mse: 19.7570\n",
            "Epoch 3/20\n",
            "215/215 [==============================] - 1s 4ms/step - loss: 7.6672 - mse: 7.6672 - val_loss: 1.2823 - val_mse: 1.2823\n",
            "Epoch 4/20\n",
            "215/215 [==============================] - 1s 4ms/step - loss: 0.3691 - mse: 0.3691 - val_loss: 0.1029 - val_mse: 0.1029\n",
            "Epoch 5/20\n",
            "215/215 [==============================] - 1s 3ms/step - loss: 0.0862 - mse: 0.0862 - val_loss: 0.0862 - val_mse: 0.0862\n",
            "Epoch 6/20\n",
            "215/215 [==============================] - 1s 3ms/step - loss: 0.0812 - mse: 0.0812 - val_loss: 0.0828 - val_mse: 0.0828\n",
            "Epoch 7/20\n",
            "215/215 [==============================] - 1s 3ms/step - loss: 0.0778 - mse: 0.0778 - val_loss: 0.0790 - val_mse: 0.0790\n",
            "Epoch 8/20\n",
            "215/215 [==============================] - 1s 4ms/step - loss: 0.0739 - mse: 0.0739 - val_loss: 0.0746 - val_mse: 0.0746\n",
            "Epoch 9/20\n",
            "215/215 [==============================] - 1s 3ms/step - loss: 0.0695 - mse: 0.0695 - val_loss: 0.0699 - val_mse: 0.0699\n",
            "Epoch 10/20\n",
            "215/215 [==============================] - 1s 4ms/step - loss: 0.0648 - mse: 0.0648 - val_loss: 0.0648 - val_mse: 0.0648\n",
            "Epoch 11/20\n",
            "215/215 [==============================] - 1s 4ms/step - loss: 0.0599 - mse: 0.0599 - val_loss: 0.0598 - val_mse: 0.0598\n",
            "Epoch 12/20\n",
            "215/215 [==============================] - 1s 4ms/step - loss: 0.0553 - mse: 0.0553 - val_loss: 0.0552 - val_mse: 0.0552\n",
            "Epoch 13/20\n",
            "215/215 [==============================] - 1s 4ms/step - loss: 0.0512 - mse: 0.0512 - val_loss: 0.0513 - val_mse: 0.0513\n",
            "Epoch 14/20\n",
            "215/215 [==============================] - 1s 4ms/step - loss: 0.0477 - mse: 0.0477 - val_loss: 0.0480 - val_mse: 0.0480\n",
            "Epoch 15/20\n",
            "215/215 [==============================] - 1s 3ms/step - loss: 0.0448 - mse: 0.0448 - val_loss: 0.0452 - val_mse: 0.0452\n",
            "Epoch 16/20\n",
            "215/215 [==============================] - 1s 4ms/step - loss: 0.0423 - mse: 0.0423 - val_loss: 0.0429 - val_mse: 0.0429\n",
            "Epoch 17/20\n",
            "215/215 [==============================] - 1s 3ms/step - loss: 0.0403 - mse: 0.0403 - val_loss: 0.0409 - val_mse: 0.0409\n",
            "Epoch 18/20\n",
            "215/215 [==============================] - 1s 4ms/step - loss: 0.0384 - mse: 0.0384 - val_loss: 0.0391 - val_mse: 0.0391\n",
            "Epoch 19/20\n",
            "215/215 [==============================] - 1s 4ms/step - loss: 0.0367 - mse: 0.0367 - val_loss: 0.0373 - val_mse: 0.0373\n",
            "Epoch 20/20\n",
            "215/215 [==============================] - 1s 3ms/step - loss: 0.0349 - mse: 0.0349 - val_loss: 0.0355 - val_mse: 0.0355\n"
          ],
          "name": "stdout"
        },
        {
          "output_type": "execute_result",
          "data": {
            "text/plain": [
              "(0.1514896247259357,\n",
              " 0.03537243434471441,\n",
              " 0.18807560805355492,\n",
              " 0.9383662567602954)"
            ]
          },
          "metadata": {
            "tags": []
          },
          "execution_count": 154
        },
        {
          "output_type": "display_data",
          "data": {
            "image/png": "[encoded data removed]",
            "text/plain": [
              "<Figure size 432x288 with 1 Axes>"
            ]
          },
          "metadata": {
            "tags": [],
            "needs_background": "light"
          }
        }
      ]
    },
    {
      "cell_type": "code",
      "metadata": {
        "colab": {
          "base_uri": "https://localhost:8080/",
          "height": 1000
        },
        "id": "1Y-9uT765lzF",
        "outputId": "8c0c270a-b1c6-4c8b-abe4-8e6a22fd4134"
      },
      "source": [
        "dfc8 = shuffler('!shuffle')\n",
        "x_train8, y_train8, x_test8, y_test8, x_val8, y_val8 = trainvaltestsplit(dfc8['x'], dfc8['y'], 0.3, 0.2, 0.5)\n",
        "c8 = model3Ltanh()\n",
        "c8.fit(x_train8, y_train8, epochs = 20, batch_size = 12, validation_data = (x_val8, y_val8), shuffle=False)\n",
        "predictioncase8 = c8.predict(np.array(x_test8))\n",
        "plt.scatter(x_test8, predictioncase8)\n",
        "errorscorecalc(y_test8, predictioncase8)"
      ],
      "execution_count": null,
      "outputs": [
        {
          "output_type": "stream",
          "text": [
            "Epoch 1/20\n",
            "215/215 [==============================] - 2s 5ms/step - loss: 73.4663 - mse: 73.4663 - val_loss: 51.7598 - val_mse: 51.7598\n",
            "Epoch 2/20\n",
            "215/215 [==============================] - 1s 5ms/step - loss: 42.9367 - mse: 42.9367 - val_loss: 35.7627 - val_mse: 35.7627\n",
            "Epoch 3/20\n",
            "215/215 [==============================] - 1s 4ms/step - loss: 30.0538 - mse: 30.0538 - val_loss: 25.0982 - val_mse: 25.0982\n",
            "Epoch 4/20\n",
            "215/215 [==============================] - 1s 5ms/step - loss: 20.9165 - mse: 20.9165 - val_loss: 17.3039 - val_mse: 17.3039\n",
            "Epoch 5/20\n",
            "215/215 [==============================] - 1s 4ms/step - loss: 14.2376 - mse: 14.2376 - val_loss: 11.6324 - val_mse: 11.6324\n",
            "Epoch 6/20\n",
            "215/215 [==============================] - 1s 5ms/step - loss: 9.4301 - mse: 9.4301 - val_loss: 7.6048 - val_mse: 7.6048\n",
            "Epoch 7/20\n",
            "215/215 [==============================] - 1s 4ms/step - loss: 6.0715 - mse: 6.0715 - val_loss: 4.8437 - val_mse: 4.8437\n",
            "Epoch 8/20\n",
            "215/215 [==============================] - 1s 5ms/step - loss: 3.8168 - mse: 3.8168 - val_loss: 3.0336 - val_mse: 3.0336\n",
            "Epoch 9/20\n",
            "215/215 [==============================] - 1s 4ms/step - loss: 2.3758 - mse: 2.3758 - val_loss: 1.9094 - val_mse: 1.9094\n",
            "Epoch 10/20\n",
            "215/215 [==============================] - 1s 5ms/step - loss: 1.5077 - mse: 1.5077 - val_loss: 1.2544 - val_mse: 1.2544\n",
            "Epoch 11/20\n",
            "215/215 [==============================] - 1s 5ms/step - loss: 1.0197 - mse: 1.0197 - val_loss: 0.9001 - val_mse: 0.9001\n",
            "Epoch 12/20\n",
            "215/215 [==============================] - 1s 4ms/step - loss: 0.7664 - mse: 0.7664 - val_loss: 0.7238 - val_mse: 0.7238\n",
            "Epoch 13/20\n",
            "215/215 [==============================] - 1s 5ms/step - loss: 0.6464 - mse: 0.6464 - val_loss: 0.6439 - val_mse: 0.6439\n",
            "Epoch 14/20\n",
            "215/215 [==============================] - 1s 5ms/step - loss: 0.5949 - mse: 0.5949 - val_loss: 0.6107 - val_mse: 0.6107\n",
            "Epoch 15/20\n",
            "215/215 [==============================] - 1s 4ms/step - loss: 0.5746 - mse: 0.5746 - val_loss: 0.5973 - val_mse: 0.5973\n",
            "Epoch 16/20\n",
            "215/215 [==============================] - 1s 4ms/step - loss: 0.5654 - mse: 0.5654 - val_loss: 0.5879 - val_mse: 0.5879\n",
            "Epoch 17/20\n",
            "215/215 [==============================] - 1s 4ms/step - loss: 0.4877 - mse: 0.4877 - val_loss: 0.3705 - val_mse: 0.3705\n",
            "Epoch 18/20\n",
            "215/215 [==============================] - 1s 4ms/step - loss: 0.3256 - mse: 0.3256 - val_loss: 0.3292 - val_mse: 0.3292\n",
            "Epoch 19/20\n",
            "215/215 [==============================] - 1s 3ms/step - loss: 0.2889 - mse: 0.2889 - val_loss: 0.2933 - val_mse: 0.2933\n",
            "Epoch 20/20\n",
            "215/215 [==============================] - 1s 4ms/step - loss: 0.2567 - mse: 0.2567 - val_loss: 0.2613 - val_mse: 0.2613\n"
          ],
          "name": "stdout"
        },
        {
          "output_type": "execute_result",
          "data": {
            "text/plain": [
              "(0.31394047296923566,\n",
              " 0.2452191546422899,\n",
              " 0.4951960769657711,\n",
              " 0.5727245044151531)"
            ]
          },
          "metadata": {
            "tags": []
          },
          "execution_count": 179
        },
        {
          "output_type": "display_data",
          "data": {
            "image/png": "[encoded data removed]",
            "text/plain": [
              "<Figure size 432x288 with 1 Axes>"
            ]
          },
          "metadata": {
            "tags": [],
            "needs_background": "light"
          }
        }
      ]
    },
    {
      "cell_type": "code",
      "metadata": {
        "colab": {
          "base_uri": "https://localhost:8080/",
          "height": 1000
        },
        "id": "G_WrMXqH6QiV",
        "outputId": "e0188835-dc3f-435a-df52-bba1b3a9b1e4"
      },
      "source": [
        "dfc9us = shuffler('!shuffle')\n",
        "dfc9 = scaledata(dfc9us)\n",
        "x_train9, y_train9, x_test9, y_test9, x_val9, y_val9 = trainvaltestsplit(dfc9['x'], dfc9['y'], 0.3, 0.2, 0.5)\n",
        "c9 = model3Lrelu()                                                                        \n",
        "c9.fit(x_train9, y_train9, epochs = 20, batch_size = 12, validation_data = (x_val9, y_val9), shuffle=False)\n",
        "predictioncase9 = c9.predict(np.array(x_test9))\n",
        "plt.scatter(x_test9, predictioncase9)\n",
        "errorscorecalc(y_test9, predictioncase9)"
      ],
      "execution_count": null,
      "outputs": [
        {
          "output_type": "stream",
          "text": [
            "Epoch 1/20\n",
            "215/215 [==============================] - 1s 4ms/step - loss: 0.0710 - mse: 0.0710 - val_loss: 0.0074 - val_mse: 0.0074\n",
            "Epoch 2/20\n",
            "215/215 [==============================] - 1s 5ms/step - loss: 0.0061 - mse: 0.0061 - val_loss: 0.0061 - val_mse: 0.0061\n",
            "Epoch 3/20\n",
            "215/215 [==============================] - 1s 4ms/step - loss: 0.0054 - mse: 0.0054 - val_loss: 0.0057 - val_mse: 0.0057\n",
            "Epoch 4/20\n",
            "215/215 [==============================] - 1s 3ms/step - loss: 0.0052 - mse: 0.0052 - val_loss: 0.0056 - val_mse: 0.0056\n",
            "Epoch 5/20\n",
            "215/215 [==============================] - 1s 4ms/step - loss: 0.0052 - mse: 0.0052 - val_loss: 0.0055 - val_mse: 0.0055\n",
            "Epoch 6/20\n",
            "215/215 [==============================] - 1s 4ms/step - loss: 0.0051 - mse: 0.0051 - val_loss: 0.0055 - val_mse: 0.0055\n",
            "Epoch 7/20\n",
            "215/215 [==============================] - 1s 4ms/step - loss: 0.0050 - mse: 0.0050 - val_loss: 0.0055 - val_mse: 0.0055\n",
            "Epoch 8/20\n",
            "215/215 [==============================] - 1s 4ms/step - loss: 0.0050 - mse: 0.0050 - val_loss: 0.0054 - val_mse: 0.0054\n",
            "Epoch 9/20\n",
            "215/215 [==============================] - 1s 4ms/step - loss: 0.0049 - mse: 0.0049 - val_loss: 0.0053 - val_mse: 0.0053\n",
            "Epoch 10/20\n",
            "215/215 [==============================] - 1s 4ms/step - loss: 0.0049 - mse: 0.0049 - val_loss: 0.0052 - val_mse: 0.0052\n",
            "Epoch 11/20\n",
            "215/215 [==============================] - 1s 3ms/step - loss: 0.0047 - mse: 0.0047 - val_loss: 0.0051 - val_mse: 0.0051\n",
            "Epoch 12/20\n",
            "215/215 [==============================] - 1s 5ms/step - loss: 0.0046 - mse: 0.0046 - val_loss: 0.0048 - val_mse: 0.0048\n",
            "Epoch 13/20\n",
            "215/215 [==============================] - 1s 5ms/step - loss: 0.0043 - mse: 0.0043 - val_loss: 0.0045 - val_mse: 0.0045\n",
            "Epoch 14/20\n",
            "215/215 [==============================] - 1s 4ms/step - loss: 0.0040 - mse: 0.0040 - val_loss: 0.0042 - val_mse: 0.0042\n",
            "Epoch 15/20\n",
            "215/215 [==============================] - 1s 4ms/step - loss: 0.0036 - mse: 0.0036 - val_loss: 0.0037 - val_mse: 0.0037\n",
            "Epoch 16/20\n",
            "215/215 [==============================] - 1s 3ms/step - loss: 0.0032 - mse: 0.0032 - val_loss: 0.0032 - val_mse: 0.0032\n",
            "Epoch 17/20\n",
            "215/215 [==============================] - 1s 3ms/step - loss: 0.0027 - mse: 0.0027 - val_loss: 0.0026 - val_mse: 0.0026\n",
            "Epoch 18/20\n",
            "215/215 [==============================] - 1s 3ms/step - loss: 0.0022 - mse: 0.0022 - val_loss: 0.0021 - val_mse: 0.0021\n",
            "Epoch 19/20\n",
            "215/215 [==============================] - 1s 4ms/step - loss: 0.0017 - mse: 0.0017 - val_loss: 0.0016 - val_mse: 0.0016\n",
            "Epoch 20/20\n",
            "215/215 [==============================] - 1s 3ms/step - loss: 0.0013 - mse: 0.0013 - val_loss: 0.0012 - val_mse: 0.0012\n"
          ],
          "name": "stdout"
        },
        {
          "output_type": "execute_result",
          "data": {
            "text/plain": [
              "(0.02323616046136061,\n",
              " 0.0011061660206701874,\n",
              " 0.03325907426057116,\n",
              " 0.9691614541044854)"
            ]
          },
          "metadata": {
            "tags": []
          },
          "execution_count": 158
        },
        {
          "output_type": "display_data",
          "data": {
            "image/png": "[encoded data removed]",
            "text/plain": [
              "<Figure size 432x288 with 1 Axes>"
            ]
          },
          "metadata": {
            "tags": [],
            "needs_background": "light"
          }
        }
      ]
    },
    {
      "cell_type": "code",
      "metadata": {
        "colab": {
          "base_uri": "https://localhost:8080/",
          "height": 1000
        },
        "id": "n9WWbwdl625p",
        "outputId": "16c57207-a2bb-4860-8303-2f09bf575e58"
      },
      "source": [
        "dfc10us = shuffler('!shuffle')\n",
        "dfc10 = scaledata(dfc10us)\n",
        "x_train10, y_train10, x_test10, y_test10, x_val10, y_val10 = trainvaltestsplit(dfc10['x'], dfc10['y'], 0.3, 0.2, 0.5)\n",
        "c10 = model3Ltanh()                                                                        \n",
        "c10.fit(x_train10, y_train10, epochs = 20, batch_size = 12, validation_data = (x_val10, y_val10), shuffle=False)\n",
        "predictioncase10 = c10.predict(np.array(x_test10))\n",
        "plt.scatter(x_test10, predictioncase10)\n",
        "errorscorecalc(y_test10, predictioncase10)"
      ],
      "execution_count": null,
      "outputs": [
        {
          "output_type": "stream",
          "text": [
            "Epoch 1/20\n",
            "215/215 [==============================] - 2s 5ms/step - loss: 0.0191 - mse: 0.0191 - val_loss: 0.0077 - val_mse: 0.0077\n",
            "Epoch 2/20\n",
            "215/215 [==============================] - 1s 4ms/step - loss: 0.0070 - mse: 0.0070 - val_loss: 0.0075 - val_mse: 0.0075\n",
            "Epoch 3/20\n",
            "215/215 [==============================] - 1s 5ms/step - loss: 0.0070 - mse: 0.0070 - val_loss: 0.0073 - val_mse: 0.0073\n",
            "Epoch 4/20\n",
            "215/215 [==============================] - 1s 4ms/step - loss: 0.0069 - mse: 0.0069 - val_loss: 0.0071 - val_mse: 0.0071\n",
            "Epoch 5/20\n",
            "215/215 [==============================] - 1s 4ms/step - loss: 0.0068 - mse: 0.0068 - val_loss: 0.0069 - val_mse: 0.0069\n",
            "Epoch 6/20\n",
            "215/215 [==============================] - 1s 4ms/step - loss: 0.0066 - mse: 0.0066 - val_loss: 0.0068 - val_mse: 0.0068\n",
            "Epoch 7/20\n",
            "215/215 [==============================] - 1s 4ms/step - loss: 0.0065 - mse: 0.0065 - val_loss: 0.0067 - val_mse: 0.0067\n",
            "Epoch 8/20\n",
            "215/215 [==============================] - 1s 4ms/step - loss: 0.0064 - mse: 0.0064 - val_loss: 0.0065 - val_mse: 0.0065\n",
            "Epoch 9/20\n",
            "215/215 [==============================] - 1s 4ms/step - loss: 0.0063 - mse: 0.0063 - val_loss: 0.0064 - val_mse: 0.0064\n",
            "Epoch 10/20\n",
            "215/215 [==============================] - 1s 5ms/step - loss: 0.0062 - mse: 0.0062 - val_loss: 0.0063 - val_mse: 0.0063\n",
            "Epoch 11/20\n",
            "215/215 [==============================] - 1s 4ms/step - loss: 0.0061 - mse: 0.0061 - val_loss: 0.0062 - val_mse: 0.0062\n",
            "Epoch 12/20\n",
            "215/215 [==============================] - 1s 5ms/step - loss: 0.0060 - mse: 0.0060 - val_loss: 0.0061 - val_mse: 0.0061\n",
            "Epoch 13/20\n",
            "215/215 [==============================] - 1s 5ms/step - loss: 0.0059 - mse: 0.0059 - val_loss: 0.0060 - val_mse: 0.0060\n",
            "Epoch 14/20\n",
            "215/215 [==============================] - 1s 3ms/step - loss: 0.0058 - mse: 0.0058 - val_loss: 0.0058 - val_mse: 0.0058\n",
            "Epoch 15/20\n",
            "215/215 [==============================] - 1s 4ms/step - loss: 0.0056 - mse: 0.0056 - val_loss: 0.0055 - val_mse: 0.0055\n",
            "Epoch 16/20\n",
            "215/215 [==============================] - 1s 5ms/step - loss: 0.0052 - mse: 0.0052 - val_loss: 0.0050 - val_mse: 0.0050\n",
            "Epoch 17/20\n",
            "215/215 [==============================] - 1s 5ms/step - loss: 0.0047 - mse: 0.0047 - val_loss: 0.0042 - val_mse: 0.0042\n",
            "Epoch 18/20\n",
            "215/215 [==============================] - 1s 4ms/step - loss: 0.0036 - mse: 0.0036 - val_loss: 0.0028 - val_mse: 0.0028\n",
            "Epoch 19/20\n",
            "215/215 [==============================] - 1s 4ms/step - loss: 0.0020 - mse: 0.0020 - val_loss: 0.0012 - val_mse: 0.0012\n",
            "Epoch 20/20\n",
            "215/215 [==============================] - 1s 4ms/step - loss: 7.5984e-04 - mse: 7.5984e-04 - val_loss: 5.3534e-04 - val_mse: 5.3534e-04\n"
          ],
          "name": "stdout"
        },
        {
          "output_type": "execute_result",
          "data": {
            "text/plain": [
              "(0.014049403703511609,\n",
              " 0.0005063958417567791,\n",
              " 0.0225032406945484,\n",
              " 0.985882307795124)"
            ]
          },
          "metadata": {
            "tags": []
          },
          "execution_count": 167
        },
        {
          "output_type": "display_data",
          "data": {
            "image/png": "[encoded data removed]",
            "text/plain": [
              "<Figure size 432x288 with 1 Axes>"
            ]
          },
          "metadata": {
            "tags": [],
            "needs_background": "light"
          }
        }
      ]
    }
  ]
}